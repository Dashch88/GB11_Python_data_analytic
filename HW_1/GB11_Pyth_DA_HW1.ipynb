{
 "cells": [
  {
   "cell_type": "markdown",
   "metadata": {},
   "source": [
    "## ДЗ №1. Основы языка Python для аналитиков (Автор: Дащенко А.)"
   ]
  },
  {
   "cell_type": "markdown",
   "metadata": {},
   "source": [
    "### Задание 1\n",
    "На складе лежат разные фрукты в разном количестве. Нужно написать функцию, \n",
    "<br>которая на вход принимает любое количество названий фруктов и их количество, а возвращает общее количество фруктов на складе."
   ]
  },
  {
   "cell_type": "code",
   "execution_count": 127,
   "metadata": {},
   "outputs": [],
   "source": [
    "def fruit_counter(**kwargs) -> int:\n",
    "    fruit_amount = 0\n",
    "    print(kwargs) #проверка передачи аргументов\n",
    "    for key, value in kwargs.items():\n",
    "        fruit_amount += value\n",
    "    return fruit_amount"
   ]
  },
  {
   "cell_type": "code",
   "execution_count": 128,
   "metadata": {},
   "outputs": [
    {
     "name": "stdout",
     "output_type": "stream",
     "text": [
      "{'apples': 12, 'cherry': 2, 'bananas': 6}\n",
      "20\n"
     ]
    }
   ],
   "source": [
    "warehouse1 = fruit_counter(apples = 12, cherry = 2, bananas = 6)\n",
    "print(warehouse1)"
   ]
  },
  {
   "cell_type": "markdown",
   "metadata": {},
   "source": [
    "## Задание 2\n",
    "Дан список с затратами на рекламу. Но в данных есть ошибки, некоторые затраты имеют отрицательную величину. \n",
    "<br>Удалите такие значения из списка и посчитайте суммарные затраты.\n",
    "<br>Используйте list comprehensions"
   ]
  },
  {
   "cell_type": "code",
   "execution_count": 129,
   "metadata": {},
   "outputs": [],
   "source": [
    "list_spends = [100, 125, -90, 345, 655, -1, 0, 200]"
   ]
  },
  {
   "cell_type": "code",
   "execution_count": 130,
   "metadata": {},
   "outputs": [
    {
     "name": "stdout",
     "output_type": "stream",
     "text": [
      "[100, 125, 345, 655, 0, 200]\n"
     ]
    }
   ],
   "source": [
    "list_spends_correct = [i for i in list_spends if i >= 0]\n",
    "print(list_spends_correct)"
   ]
  },
  {
   "cell_type": "code",
   "execution_count": 131,
   "metadata": {},
   "outputs": [
    {
     "name": "stdout",
     "output_type": "stream",
     "text": [
      "1425\n"
     ]
    }
   ],
   "source": [
    "total_costs = sum(list_spends_correct)\n",
    "print(total_costs)"
   ]
  },
  {
   "cell_type": "markdown",
   "metadata": {},
   "source": [
    "## Задание 3\n",
    "### Задание 3.1\n",
    "Даны два списка. Найдите, какая выручка у компании в ноябре. Используйте list comprehensions"
   ]
  },
  {
   "cell_type": "code",
   "execution_count": 145,
   "metadata": {},
   "outputs": [],
   "source": [
    "list_dates = ['2021-09-14', '2021-12-15', '2021-09-08', '2021-12-05', '2021-10-09',\n",
    "              '2021-09-30', '2021-12-22', '2021-11-29', '2021-12-24', '2021-11-26',\n",
    "              '2021-10-27', '2021-12-18', '2021-11-09', '2021-11-23', '2021-09-27',\n",
    "              '2021-10-02', '2021-12-27', '2021-09-20', '2021-12-13', '2021-11-01',\n",
    "              '2021-11-09', '2021-12-06', '2021-12-08', '2021-10-09', '2021-10-31',\n",
    "              '2021-09-30', '2021-11-09', '2021-12-13', '2021-10-26', '2021-12-09']\n",
    "\n",
    "list_purchase = [1270, 8413, 9028, 3703, 5739, 4095, 295, 4944, 5723, 3701, 4471, 651, 7037, 4274, 6275,\n",
    "               4988, 6930, 2971, 6592, 2004, 2822, 519, 3406, 2732, 5015, 2008, 316, 6333, 5700, 2887]"
   ]
  },
  {
   "cell_type": "code",
   "execution_count": 146,
   "metadata": {},
   "outputs": [],
   "source": [
    "calendar_dict = {'Январь': '01', 'Февраль': '02', 'Март': '03',\n",
    "                 'Апрель': '04', 'Май': '05', 'Июнь': '06',\n",
    "                 'Июль': '07', 'Август': '08', 'Сентябрь': '09',\n",
    "                 'Октябрь': '10', 'Ноябрь': '11', 'Декабрь': '12'}"
   ]
  },
  {
   "cell_type": "code",
   "execution_count": 147,
   "metadata": {},
   "outputs": [
    {
     "data": {
      "text/plain": [
       "25098"
      ]
     },
     "execution_count": 147,
     "metadata": {},
     "output_type": "execute_result"
    }
   ],
   "source": [
    "calculate_month = 'Ноябрь'\n",
    "sales_revenue_monthly = [list_purchase[i] for i in range(len(list_purchase)) if list_dates[i][5:7] == calendar_dict[calculate_month]]\n",
    "sum(sales_revenue_monthly)"
   ]
  },
  {
   "cell_type": "markdown",
   "metadata": {},
   "source": [
    "### Задание 3.2\n",
    "Найдите выручку компании в зависимости от месяца<br>\n",
    "Для этого напишите функцию, которая на вход принимает список с датами и список с выручкой, <br>а на выходе словарь, где ключи - это месяцы, а значения - это выручка.<br>\n",
    "Используйте аннотирование типов."
   ]
  },
  {
   "cell_type": "code",
   "execution_count": 152,
   "metadata": {},
   "outputs": [],
   "source": [
    "def sales_revenue_yearly(dates_l: list, purchase_l: list, cal_dict: dict) -> dict: #добавлен третий аргумент функции, для красоты\n",
    "    sales_dict = {}\n",
    "    for k in cal_dict:\n",
    "        sales_dict[k] = sum([purchase_l[i] for i in range(len(purchase_l)) if dates_l[i][5:7] == cal_dict[k]])\n",
    "    return sales_dict"
   ]
  },
  {
   "cell_type": "code",
   "execution_count": 153,
   "metadata": {},
   "outputs": [
    {
     "data": {
      "text/plain": [
       "{'Январь': 0,\n",
       " 'Февраль': 0,\n",
       " 'Март': 0,\n",
       " 'Апрель': 0,\n",
       " 'Май': 0,\n",
       " 'Июнь': 0,\n",
       " 'Июль': 0,\n",
       " 'Август': 0,\n",
       " 'Сентябрь': 25647,\n",
       " 'Октябрь': 28645,\n",
       " 'Ноябрь': 25098,\n",
       " 'Декабрь': 45452}"
      ]
     },
     "execution_count": 153,
     "metadata": {},
     "output_type": "execute_result"
    }
   ],
   "source": [
    "sales_revenue_yearly(list_dates, list_purchase, calendar_dict)"
   ]
  }
 ],
 "metadata": {
  "kernelspec": {
   "display_name": "Python 3",
   "language": "python",
   "name": "python3"
  },
  "language_info": {
   "codemirror_mode": {
    "name": "ipython",
    "version": 3
   },
   "file_extension": ".py",
   "mimetype": "text/x-python",
   "name": "python",
   "nbconvert_exporter": "python",
   "pygments_lexer": "ipython3",
   "version": "3.11.3"
  },
  "orig_nbformat": 4
 },
 "nbformat": 4,
 "nbformat_minor": 2
}
