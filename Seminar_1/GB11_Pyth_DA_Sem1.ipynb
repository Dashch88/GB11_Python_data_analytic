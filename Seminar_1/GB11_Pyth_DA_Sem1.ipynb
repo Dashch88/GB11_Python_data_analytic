{
 "cells": [
  {
   "cell_type": "markdown",
   "id": "a7322eb8",
   "metadata": {},
   "source": [
    "# Jupiter Notebook"
   ]
  },
  {
   "cell_type": "markdown",
   "id": "0103fe34",
   "metadata": {},
   "source": [
    "## Задание 1"
   ]
  },
  {
   "cell_type": "markdown",
   "id": "b33aab3e",
   "metadata": {},
   "source": [
    "### 1.1 Соедините два словаря в один"
   ]
  },
  {
   "cell_type": "code",
   "execution_count": 1,
   "id": "f9ac8b86",
   "metadata": {},
   "outputs": [],
   "source": [
    "dict1 = {'One': 1, 'Two': 2, 'Three': 3}\n",
    "dict2 = {'Four': 4, 'Five': 5, 'Six': 6}"
   ]
  },
  {
   "cell_type": "code",
   "execution_count": 2,
   "id": "6cdc829d",
   "metadata": {},
   "outputs": [
    {
     "data": {
      "text/plain": [
       "{'One': 1, 'Two': 2, 'Three': 3}"
      ]
     },
     "execution_count": 2,
     "metadata": {},
     "output_type": "execute_result"
    }
   ],
   "source": [
    "dict1"
   ]
  },
  {
   "cell_type": "code",
   "execution_count": 3,
   "id": "785fd9d9",
   "metadata": {},
   "outputs": [
    {
     "data": {
      "text/plain": [
       "{'One': 1, 'Two': 2, 'Three': 3, 'Four': 4, 'Five': 5, 'Six': 6}"
      ]
     },
     "execution_count": 3,
     "metadata": {},
     "output_type": "execute_result"
    }
   ],
   "source": [
    "dict1.update(dict2)\n",
    "dict1"
   ]
  },
  {
   "cell_type": "code",
   "execution_count": 4,
   "id": "0fcf3644",
   "metadata": {},
   "outputs": [
    {
     "data": {
      "text/plain": [
       "{'One': 1, 'Two': 2, 'Three': 3, 'Four': 4, 'Five': 5, 'Six': 6}"
      ]
     },
     "execution_count": 4,
     "metadata": {},
     "output_type": "execute_result"
    }
   ],
   "source": [
    "dict3 = dict1 | dict2\n",
    "dict3"
   ]
  },
  {
   "cell_type": "markdown",
   "id": "b028baa7",
   "metadata": {},
   "source": [
    "### 1.2 Напишите функцию, которая на вход принимает два словаря и возвращает один объединенный словарь"
   ]
  },
  {
   "cell_type": "code",
   "execution_count": 5,
   "id": "9e0e468c",
   "metadata": {},
   "outputs": [
    {
     "data": {
      "text/plain": [
       "{'One': 1, 'Two': 2, 'Three': 3, 'Four': 4, 'Five': 5, 'Six': 6}"
      ]
     },
     "execution_count": 5,
     "metadata": {},
     "output_type": "execute_result"
    }
   ],
   "source": [
    "def extend_dict(d1: dict, d2: dict) -> dict:\n",
    "    return d1 | d2\n",
    "\n",
    "extend_dict(dict1, dict2)"
   ]
  },
  {
   "cell_type": "markdown",
   "id": "a54ee0d0",
   "metadata": {},
   "source": [
    "## Задание 2\n",
    "#### Напишите функцию, которая из двух списков, делает один словарь, где элементы из первого списка - ключи, а элементы из второго списка - значения\n",
    "### 2.1 Используя цикл for"
   ]
  },
  {
   "cell_type": "code",
   "execution_count": 6,
   "id": "facea6fa",
   "metadata": {},
   "outputs": [],
   "source": [
    "keys = ['Ones', 'Two', 'Three']\n",
    "values = [1, 2, 3]"
   ]
  },
  {
   "cell_type": "code",
   "execution_count": 7,
   "id": "5dede032",
   "metadata": {
    "scrolled": false
   },
   "outputs": [],
   "source": [
    "def list_to_dict(keys: list, values: list) -> dict:\n",
    "    return dict(zip(keys, values))"
   ]
  },
  {
   "cell_type": "code",
   "execution_count": 8,
   "id": "4085abf5",
   "metadata": {},
   "outputs": [
    {
     "data": {
      "text/plain": [
       "{'Ones': 1, 'Two': 2, 'Three': 3}"
      ]
     },
     "execution_count": 8,
     "metadata": {},
     "output_type": "execute_result"
    }
   ],
   "source": [
    "list_to_dict(keys, values)"
   ]
  },
  {
   "cell_type": "code",
   "execution_count": 9,
   "id": "e6488394",
   "metadata": {},
   "outputs": [],
   "source": [
    "def list_to_dict2(k: list, v: list) -> dict:\n",
    "    dict1 = {}\n",
    "    for i in range(len(k)):\n",
    "        dict1[k[i]] = v[i]\n",
    "    return dict1"
   ]
  },
  {
   "cell_type": "code",
   "execution_count": 10,
   "id": "ebbaa0f2",
   "metadata": {},
   "outputs": [
    {
     "data": {
      "text/plain": [
       "{'Ones': 1, 'Two': 2, 'Three': 3}"
      ]
     },
     "execution_count": 10,
     "metadata": {},
     "output_type": "execute_result"
    }
   ],
   "source": [
    "list_to_dict2(keys, values)"
   ]
  },
  {
   "cell_type": "markdown",
   "id": "48b2c161",
   "metadata": {},
   "source": [
    "### 2.2 Используя dict comprehensions"
   ]
  },
  {
   "cell_type": "code",
   "execution_count": 11,
   "id": "a7457d33",
   "metadata": {},
   "outputs": [],
   "source": [
    "dict1 = {keys[i]: values[i] for i in range(len(keys))}"
   ]
  },
  {
   "cell_type": "code",
   "execution_count": 12,
   "id": "0d8dc9fc",
   "metadata": {},
   "outputs": [
    {
     "data": {
      "text/plain": [
       "{'Ones': 1, 'Two': 2, 'Three': 3}"
      ]
     },
     "execution_count": 12,
     "metadata": {},
     "output_type": "execute_result"
    }
   ],
   "source": [
    "dict1"
   ]
  },
  {
   "cell_type": "markdown",
   "id": "82dbd543",
   "metadata": {},
   "source": [
    "## Задание 3\n",
    "\n",
    "#### Извлеките только два ключа name и age из представленного словаря\n",
    "### 3.1 Напишите функцию с циклом for\n",
    "Функция на вход принимает:\n",
    "- исходный словарь\n",
    "- ключи, которые нужно извлечь (аргумент по умолчанию)\n",
    "\n",
    "На выходе словарь с нужными ключами. Используйте аннотирование типов"
   ]
  },
  {
   "cell_type": "code",
   "execution_count": 13,
   "id": "9f4cd36c",
   "metadata": {},
   "outputs": [],
   "source": [
    "client_dict = {\n",
    "    \"name\": \"John\",\n",
    "    \"age\": 25,\n",
    "    \"salary\": 500000,\n",
    "    \"city\": \"Moscow\"\n",
    "}"
   ]
  },
  {
   "cell_type": "code",
   "execution_count": 14,
   "id": "b933d75e",
   "metadata": {},
   "outputs": [],
   "source": [
    "keys = [\"name\", \"age\"]"
   ]
  },
  {
   "cell_type": "code",
   "execution_count": 15,
   "id": "c742855b",
   "metadata": {},
   "outputs": [],
   "source": [
    "def exctract_keys(c_dict: dict, c_keys: list) -> dict:\n",
    "    new_dict = {}\n",
    "    for item in c_keys:\n",
    "        new_dict[item] = c_dict[item]\n",
    "    return new_dict"
   ]
  },
  {
   "cell_type": "code",
   "execution_count": 16,
   "id": "dce51790",
   "metadata": {},
   "outputs": [
    {
     "data": {
      "text/plain": [
       "{'name': 'John', 'age': 25}"
      ]
     },
     "execution_count": 16,
     "metadata": {},
     "output_type": "execute_result"
    }
   ],
   "source": [
    "exctract_keys(client_dict, keys)"
   ]
  },
  {
   "cell_type": "markdown",
   "id": "e204e0d4",
   "metadata": {},
   "source": [
    "### 3.2 Используя dict comprehensions"
   ]
  },
  {
   "cell_type": "code",
   "execution_count": 29,
   "id": "3c81aa45",
   "metadata": {},
   "outputs": [
    {
     "data": {
      "text/plain": [
       "{'name': 'John', 'age': 25}"
      ]
     },
     "execution_count": 29,
     "metadata": {},
     "output_type": "execute_result"
    }
   ],
   "source": [
    "{item: client_dict[item] for item in keys}"
   ]
  },
  {
   "cell_type": "code",
   "execution_count": 18,
   "id": "3704fdac",
   "metadata": {},
   "outputs": [],
   "source": [
    "def extract_keys_for_dict(d: dict, keys: list) -> list:\n",
    "    if keys is None:\n",
    "        return d\n",
    "    else:\n",
    "        return {k: v for k, v in d.items() if k in keys}"
   ]
  },
  {
   "cell_type": "markdown",
   "id": "29172c44",
   "metadata": {},
   "source": [
    "## Задание 4\n",
    "### 4.1 Сгенерируйте случайные целые числа от 0 до 100 в количестве 5 штук с помощью модуля random\n",
    "Зафиксируйте псевдогенерацию, чтобы сгенерированные значения всегда были одинаковые.\n",
    "Используйте list comprehensions"
   ]
  },
  {
   "cell_type": "code",
   "execution_count": 19,
   "id": "010508e8",
   "metadata": {},
   "outputs": [],
   "source": [
    "from random import randint, seed"
   ]
  },
  {
   "cell_type": "code",
   "execution_count": 31,
   "id": "ba0caf1d",
   "metadata": {},
   "outputs": [
    {
     "data": {
      "text/plain": [
       "[17, 72, 97, 8, 32]"
      ]
     },
     "execution_count": 31,
     "metadata": {},
     "output_type": "execute_result"
    }
   ],
   "source": [
    "seed(1)\n",
    "[randint(0, 100) for i in range(5)]"
   ]
  },
  {
   "cell_type": "markdown",
   "id": "fa91d401",
   "metadata": {},
   "source": [
    "Решение от ИИ:"
   ]
  },
  {
   "cell_type": "code",
   "execution_count": 21,
   "id": "e89d5118",
   "metadata": {},
   "outputs": [
    {
     "name": "stdout",
     "output_type": "stream",
     "text": [
      "[7, 11, 10, 46, 21]\n"
     ]
    }
   ],
   "source": [
    "import random\n",
    "\n",
    "random.seed(2)\n",
    "numbers = [random.randint(0, 100) for _ in range(5)]\n",
    "print(numbers)"
   ]
  },
  {
   "cell_type": "markdown",
   "id": "846b6317",
   "metadata": {},
   "source": [
    "### 4.2 Напишите генератор\n",
    "\n",
    "- Генератор на вход принимает список с данными о клиенте (данные из пункта 4.1)\n",
    "\n",
    "- Внутри генератора реализуйте обход по списку с данными\n",
    "\n",
    "На каждой итерации генератор будет возвращать кортеж из двух элементов:\n",
    "1. данные по клиенту (в зависимости от итерации, на 0 итерации вернется 0 элемент, на 1 итерации вернется 1 элемент и тд)\n",
    "2. целочисленное значение, которое показывает, сколько секунд прошло с предыдущей итерации\n",
    "\n",
    "Примечание: секунды, которые возвращаются должны показывать время не с начала запуска генератора, а именно то время, которое прошло с предыдущей итерации. А значит время на первой итерации должно равняться 0.\n",
    "\n",
    "- Используйте функцию time из модуля time для подсчета времени.\n",
    "\n",
    "- Чтобы проверить работу таймера, запустите проход по генератору в цикле с time.sleep(2)"
   ]
  },
  {
   "cell_type": "code",
   "execution_count": 22,
   "id": "7e611ab3",
   "metadata": {},
   "outputs": [],
   "source": [
    "from time import time, sleep"
   ]
  },
  {
   "cell_type": "code",
   "execution_count": 23,
   "id": "cfbbbe0d",
   "metadata": {},
   "outputs": [],
   "source": [
    "def time_gen(numbs):\n",
    "    last_time = None\n",
    "    for item in numbs:\n",
    "        current_time = time()\n",
    "        if last_time:\n",
    "            delta = current_time - last_time\n",
    "        else:\n",
    "            delta = 0\n",
    "        last_time = time()\n",
    "        yield delta, item"
   ]
  },
  {
   "cell_type": "code",
   "execution_count": 24,
   "id": "3563e0b7",
   "metadata": {},
   "outputs": [
    {
     "name": "stdout",
     "output_type": "stream",
     "text": [
      "(0, 7)\n"
     ]
    },
    {
     "name": "stdout",
     "output_type": "stream",
     "text": [
      "(2.0051000118255615, 11)\n",
      "(2.0009047985076904, 10)\n",
      "(2.0018670558929443, 46)\n",
      "(2.005326986312866, 21)\n"
     ]
    }
   ],
   "source": [
    "for item in time_gen(numbers):\n",
    "    print(item)\n",
    "    sleep(2)"
   ]
  },
  {
   "cell_type": "markdown",
   "id": "0234a376",
   "metadata": {},
   "source": [
    "## Задание 6\n",
    "Напишите функцию, которая может принимать любое количество трат пользователя и считать сумму и среднее.\n",
    "\n",
    "На вход поступают целочисленные значения в любом количестве\n",
    "\n",
    "На выходе словарь с ключами суммы трат и средней траты"
   ]
  },
  {
   "cell_type": "code",
   "execution_count": 25,
   "id": "8824c3ef",
   "metadata": {},
   "outputs": [],
   "source": [
    "def sum_mean(*args):\n",
    "    calc_dict = {\n",
    "        \"sum_args\": sum(args), \n",
    "        \"mean_args\": sum(args) / len(args)\n",
    "    }\n",
    "    return calc_dict"
   ]
  },
  {
   "cell_type": "code",
   "execution_count": 26,
   "id": "8362f0e9",
   "metadata": {},
   "outputs": [
    {
     "data": {
      "text/plain": [
       "{'sum_args': 6, 'mean_args': 2.0}"
      ]
     },
     "execution_count": 26,
     "metadata": {},
     "output_type": "execute_result"
    }
   ],
   "source": [
    "sum_mean(1, 2, 3)"
   ]
  },
  {
   "cell_type": "code",
   "execution_count": 27,
   "id": "b4bd510a",
   "metadata": {},
   "outputs": [],
   "source": [
    "def sum_and_mean_2(*args):\n",
    "    summa = 0\n",
    "    num = 0\n",
    "    for el in args:\n",
    "        summa += el\n",
    "        num += 1\n",
    "    return {\n",
    "        \"sum\": summa,\n",
    "        \"mean\": summa/num\n",
    "    }"
   ]
  },
  {
   "cell_type": "code",
   "execution_count": 32,
   "id": "3c8ae404",
   "metadata": {},
   "outputs": [
    {
     "name": "stdout",
     "output_type": "stream",
     "text": [
      "{'total_sum': 6, 'average': 2.0}\n"
     ]
    }
   ],
   "source": [
    "def calculate_expenses(*expenses):\n",
    "    total_sum = sum(expenses)\n",
    "    average = total_sum / len(expenses)\n",
    "    return {\"total_sum\": total_sum, \"average\": average}\n",
    "\n",
    "expenses = [1, 2, 3]\n",
    "result = calculate_expenses(*expenses)\n",
    "print(result)"
   ]
  }
 ],
 "metadata": {
  "kernelspec": {
   "display_name": "Python 3 (ipykernel)",
   "language": "python",
   "name": "python3"
  },
  "language_info": {
   "codemirror_mode": {
    "name": "ipython",
    "version": 3
   },
   "file_extension": ".py",
   "mimetype": "text/x-python",
   "name": "python",
   "nbconvert_exporter": "python",
   "pygments_lexer": "ipython3",
   "version": "3.11.3"
  }
 },
 "nbformat": 4,
 "nbformat_minor": 5
}
